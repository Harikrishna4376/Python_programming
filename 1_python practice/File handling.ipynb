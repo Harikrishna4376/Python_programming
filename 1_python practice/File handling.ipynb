{
 "cells": [
  {
   "cell_type": "code",
   "execution_count": 12,
   "id": "18e3ed88-70d6-4ce3-bcd7-e1ad60630759",
   "metadata": {},
   "outputs": [
    {
     "data": {
      "text/plain": [
       "'All codes regarding FILE OPEN are completed here. '"
      ]
     },
     "execution_count": 12,
     "metadata": {},
     "output_type": "execute_result"
    }
   ],
   "source": [
    "\"\"\"All codes written below are regarding FILE OPEN. \"\"\"\n",
    "\n",
    "\n",
    "f = open(\"demofile.txt\")\n",
    "f = open(\"demofile.txt\",\"rt\")\n",
    "\n",
    "\"\"\"All codes regarding FILE OPEN are completed here. \"\"\""
   ]
  },
  {
   "cell_type": "code",
   "execution_count": 46,
   "id": "d720d4c6-7636-49f5-8633-75fdffc91980",
   "metadata": {},
   "outputs": [
    {
     "name": "stdout",
     "output_type": "stream",
     "text": [
      "Hello! Welcome to demofile.txt\n",
      "This file is for testing purposes.\n",
      "Good Luck!\n",
      "Hello! Welcome to demofile.txt\n",
      "This file is for testing purposes.\n",
      "Good Luck!\n",
      "Hello! Welcome to demofile.txt\n",
      "This file is for testing purposes.\n",
      "Good Luck!\n",
      "Hello! Welcome to demofile.txt\n",
      "\n",
      "Hello! Welcome to demofile.txt\n",
      "\n",
      "This file is for testing purposes.\n",
      "\n",
      "Hello! Welcome to demofile.txt\n",
      "\n",
      "This file is for testing purposes.\n",
      "\n",
      "Good Luck!\n",
      "Hello! Welcome to demofile.txt\n",
      "\n"
     ]
    },
    {
     "data": {
      "text/plain": [
       "'All codes regarding FILE OPEN are completed here. '"
      ]
     },
     "execution_count": 46,
     "metadata": {},
     "output_type": "execute_result"
    }
   ],
   "source": [
    "\"\"\"All codes written below are regarding FILE OPEN. \"\"\"\n",
    "\n",
    "import os\n",
    "f = open(\"demofile.txt\",\"r\")\n",
    "print(f.read())\n",
    "\n",
    "f = open(\"C:\\\\Users\\\\harikrishna\\\\anaconda3\\\\1_python practice\\\\demofile.txt\", \"r\")\n",
    "print(f.read())\n",
    "\n",
    "f = open(\"demofile.txt\",\"r\")\n",
    "print(f.read())\n",
    "\n",
    "f = open(\"demofile.txt\",\"r\")\n",
    "print(f.readline()) #It will only display the 1st line. \n",
    "\n",
    "f = open(\"demofile.txt\",\"r\")\n",
    "print(f.readline())\n",
    "print(f.readline())\n",
    "\n",
    "f = open(\"demofile.txt\",\"r\")\n",
    "for x in f:\n",
    "    print(x)\n",
    "\n",
    "f = open(\"demofile.txt\",\"r\")\n",
    "print(f.readline())\n",
    "f.close()\n",
    "\n",
    "\"\"\"All codes regarding FILE OPEN are completed here. \"\"\""
   ]
  },
  {
   "cell_type": "code",
   "execution_count": 52,
   "id": "41598efd-94a8-4230-8be4-16f923182bfb",
   "metadata": {},
   "outputs": [
    {
     "name": "stdout",
     "output_type": "stream",
     "text": [
      "Now the file has more content!Now the file has more content!Now the file has more content!\n",
      "Woops!, I have deleted the content! Woops!, I have deleted the content! \n"
     ]
    },
    {
     "data": {
      "text/plain": [
       "'All codes regarding READ/WRITE FILE are completed here. '"
      ]
     },
     "execution_count": 52,
     "metadata": {},
     "output_type": "execute_result"
    }
   ],
   "source": [
    "\"\"\"All codes written below are regarding FILE WRITE. \"\"\"\n",
    "\n",
    "\n",
    "f = open(\"demofile2.txt\",\"a\")  #This will automatically create the .txt file. \n",
    "f.write(\"Now the file has more content!\")\n",
    "f.close()\n",
    "f = open(\"demofile2.txt\",\"r\")\n",
    "print(f.read())\n",
    "\n",
    "f = open(\"demofile3.txt\",\"a\") #This will automatically create the .txt file. \n",
    "f.write(\"Woops!, I have deleted the content! \")\n",
    "f.close()\n",
    "f = open(\"demofile3.txt\",\"r\")\n",
    "print(f.read())\n",
    "\n",
    "#f = open(\"myfile.txt\",\"x\") It will automatically create the .txt file. \n",
    "#f = open(\"myfile2.txt\",\"w\") It will automatically create the .txt file. \n",
    "\n",
    "\"\"\"All codes regarding READ/WRITE FILE are completed here. \"\"\""
   ]
  },
  {
   "cell_type": "code",
   "execution_count": 56,
   "id": "473155a3-24ee-4e4f-a692-dbce9132ae44",
   "metadata": {},
   "outputs": [],
   "source": [
    "\"\"\"All codes written below are regarding DELETE FILE. \"\"\"\n",
    "\n",
    "\n",
    "import os\n",
    "#os.remove(demofile.txt) it will automatically remove 'demofile.txt'. it will give error once the file is executed more than once. \n",
    "\n",
    "import os\n",
    "\"\"\"if os.path.exists(\"demofile.txt\"):\n",
    "    os.remove(\"demofile.txt\")\n",
    "else:\n",
    "    print(\"The file does not exists. \") \"\"\"\n",
    "\n",
    "import os\n",
    "#os.rmdir(\"myfolder\") it will automatically delete the folder. "
   ]
  },
  {
   "cell_type": "code",
   "execution_count": null,
   "id": "f1ad8a7c-c81b-4e1c-8c69-0b08e36bf151",
   "metadata": {},
   "outputs": [],
   "source": []
  }
 ],
 "metadata": {
  "kernelspec": {
   "display_name": "Python 3 (ipykernel)",
   "language": "python",
   "name": "python3"
  },
  "language_info": {
   "codemirror_mode": {
    "name": "ipython",
    "version": 3
   },
   "file_extension": ".py",
   "mimetype": "text/x-python",
   "name": "python",
   "nbconvert_exporter": "python",
   "pygments_lexer": "ipython3",
   "version": "3.12.4"
  }
 },
 "nbformat": 4,
 "nbformat_minor": 5
}
