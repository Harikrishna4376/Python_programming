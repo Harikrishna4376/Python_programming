{
 "cells": [
  {
   "cell_type": "code",
   "execution_count": 13,
   "id": "a839f742-4758-40a2-9046-deea105bbf6e",
   "metadata": {},
   "outputs": [
    {
     "name": "stdout",
     "output_type": "stream",
     "text": [
      "['a', 'b', 'c']\n",
      "['a', 'b', 'c']\n",
      "!dlroW olleH\n",
      ".sdrawkcab ekil skool txet sibt woh rednow I\n",
      "15\n"
     ]
    },
    {
     "name": "stdin",
     "output_type": "stream",
     "text": [
      "Type your number:  11\n",
      "type your number:  22\n"
     ]
    },
    {
     "name": "stdout",
     "output_type": "stream",
     "text": [
      "The sum is:  33\n"
     ]
    }
   ],
   "source": [
    "\"\"\"All codes written below are regarding HOW-TO. \"\"\"\n",
    "\n",
    "\n",
    "mylist = [\"a\",\"b\",\"a\",\"c\",\"c\"]\n",
    "mylist = list(dict.fromkeys(mylist))\n",
    "print(mylist) #removing duplicates.\n",
    "\n",
    "def myfunc(x):\n",
    "    return list(dict.fromkeys(x))\n",
    "mylist = myfunc([\"a\",\"b\",\"a\",\"c\",\"c\"])\n",
    "print(mylist) #creating a function.\n",
    "\n",
    "txt = \"Hello World!\"[::-1]\n",
    "print(txt) #reverses the string.\n",
    "\n",
    "def myfunc(x):\n",
    "    return x[::-1]\n",
    "mytxt = myfunc(\"I wonder how tbis text looks like backwards.\")\n",
    "print(mytxt) #reversing using a function. \n",
    "\n",
    "x = 5\n",
    "y = 10\n",
    "print(x + y)\n",
    "\n",
    "x = input(\"Type your number: \")\n",
    "y = input(\"type your number: \")\n",
    "sum = int(x) + int(y)\n",
    "print(\"The sum is: \",sum) #adding numbers using userinput.\n",
    "\n"
   ]
  },
  {
   "cell_type": "code",
   "execution_count": null,
   "id": "77dea422-27a4-449f-883a-568568a7ddfb",
   "metadata": {},
   "outputs": [],
   "source": []
  }
 ],
 "metadata": {
  "kernelspec": {
   "display_name": "Python 3 (ipykernel)",
   "language": "python",
   "name": "python3"
  },
  "language_info": {
   "codemirror_mode": {
    "name": "ipython",
    "version": 3
   },
   "file_extension": ".py",
   "mimetype": "text/x-python",
   "name": "python",
   "nbconvert_exporter": "python",
   "pygments_lexer": "ipython3",
   "version": "3.12.4"
  }
 },
 "nbformat": 4,
 "nbformat_minor": 5
}
