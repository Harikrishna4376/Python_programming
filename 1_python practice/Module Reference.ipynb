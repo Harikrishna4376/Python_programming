{
 "cells": [
  {
   "cell_type": "code",
   "execution_count": 5,
   "id": "2c43154e-5d2b-47da-ba97-16e2778093a6",
   "metadata": {},
   "outputs": [
    {
     "data": {
      "text/plain": [
       "'All codes regarding RANDOM MODULE are completed here. '"
      ]
     },
     "execution_count": 5,
     "metadata": {},
     "output_type": "execute_result"
    }
   ],
   "source": [
    "\"\"\"All codes written below are regarding RANDOM MODULE. \"\"\"\n",
    "\n",
    "\n",
    "\"\"\"\n",
    "seed()\tInitialize the random number generator\n",
    "getstate()\tReturns the current internal state of the random number generator\n",
    "setstate()\tRestores the internal state of the random number generator\n",
    "getrandbits()\tReturns a number representing the random bits\n",
    "randrange()\tReturns a random number between the given range\n",
    "randint()\tReturns a random number between the given range\n",
    "choice()\tReturns a random element from the given sequence\n",
    "choices()\tReturns a list with a random selection from the given sequence\n",
    "shuffle()\tTakes a sequence and returns the sequence in a random order\n",
    "sample()\tReturns a given sample of a sequence\n",
    "random()\tReturns a random float number between 0 and 1\n",
    "uniform()\tReturns a random float number between two given parameters\n",
    "triangular()\tReturns a random float number between two given parameters, you can also set a mode parameter to specify the midpoint between the two other parameters\n",
    "betavariate()\tReturns a random float number between 0 and 1 based on the Beta distribution (used in statistics)\n",
    "expovariate()\tReturns a random float number based on the Exponential distribution (used in statistics)\n",
    "gammavariate()\tReturns a random float number based on the Gamma distribution (used in statistics)\n",
    "gauss()\tReturns a random float number based on the Gaussian distribution (used in probability theories)\n",
    "lognormvariate()\tReturns a random float number based on a log-normal distribution (used in probability theories)\n",
    "normalvariate()\tReturns a random float number based on the normal distribution (used in probability theories)\n",
    "vonmisesvariate()\tReturns a random float number based on the von Mises distribution (used in directional statistics)\n",
    "paretovariate()\tReturns a random float number based on the Pareto distribution (used in probability theories)\n",
    "weibullvariate()\tReturns a random float number based on the Weibull distribution (used in statistics)\n",
    "\n",
    "\"\"\"\n",
    "\n",
    "\"\"\"All codes regarding RANDOM MODULE are completed here. \"\"\""
   ]
  },
  {
   "cell_type": "code",
   "execution_count": 7,
   "id": "123545bf-305b-4bd2-879c-1e7b6b08d5ca",
   "metadata": {},
   "outputs": [
    {
     "data": {
      "text/plain": [
       "'All codes regarding REQUESTS MODULE are completed here. '"
      ]
     },
     "execution_count": 7,
     "metadata": {},
     "output_type": "execute_result"
    }
   ],
   "source": [
    "\"\"\"All codes written below are regarding REQUESTS MODULE. \"\"\"\n",
    "\n",
    "\n",
    "\"\"\"\n",
    "delete(url, args)\tSends a DELETE request to the specified url\n",
    "get(url, params, args)\tSends a GET request to the specified url\n",
    "head(url, args)\tSends a HEAD request to the specified url\n",
    "patch(url, data, args)\tSends a PATCH request to the specified url\n",
    "post(url, data, json, args)\tSends a POST request to the specified url\n",
    "put(url, data, args)\tSends a PUT request to the specified url\n",
    "request(method, url, args)\tSends a request of the specified method to the specified url\n",
    "\n",
    "\"\"\"\n",
    "\n",
    "\n",
    "\"\"\"All codes regarding REQUESTS MODULE are completed here. \"\"\""
   ]
  },
  {
   "cell_type": "code",
   "execution_count": 9,
   "id": "df93a360-66f7-4cb4-8710-443faa649aa6",
   "metadata": {},
   "outputs": [
    {
     "data": {
      "text/plain": [
       "'All codes regarding STATISTICS MODULE are completed here. '"
      ]
     },
     "execution_count": 9,
     "metadata": {},
     "output_type": "execute_result"
    }
   ],
   "source": [
    "\"\"\"All codes written below are regarding STATISTICS MODULE. \"\"\"\n",
    "\n",
    "\n",
    "\"\"\"\n",
    "statistics.harmonic_mean()\tCalculates the harmonic mean (central location) of the given data\n",
    "statistics.mean()\tCalculates the mean (average) of the given data\n",
    "statistics.median()\tCalculates the median (middle value) of the given data\n",
    "statistics.median_grouped()\tCalculates the median of grouped continuous data\n",
    "statistics.median_high()\tCalculates the high median of the given data\n",
    "statistics.median_low()\tCalculates the low median of the given data\n",
    "statistics.mode()\tCalculates the mode (central tendency) of the given numeric or nominal data\n",
    "statistics.pstdev()\tCalculates the standard deviation from an entire population\n",
    "statistics.stdev()\tCalculates the standard deviation from a sample of data\n",
    "statistics.pvariance()\tCalculates the variance of an entire population\n",
    "statistics.variance()\tCalculates the variance from a sample of data\n",
    "\n",
    "\"\"\"\n",
    "\n",
    "\"\"\"All codes regarding STATISTICS MODULE are completed here. \"\"\""
   ]
  },
  {
   "cell_type": "code",
   "execution_count": 11,
   "id": "3553cd27-af77-4bb1-a73d-d23040d2a5dc",
   "metadata": {},
   "outputs": [
    {
     "data": {
      "text/plain": [
       "'All codes regarding MATH MODULE are completed here. '"
      ]
     },
     "execution_count": 11,
     "metadata": {},
     "output_type": "execute_result"
    }
   ],
   "source": [
    "\"\"\"All codes written below are regarding MATH MODULE. \"\"\"\n",
    "\n",
    "\n",
    "\"\"\"\n",
    "math.acos()\tReturns the arc cosine of a number\n",
    "math.acosh()\tReturns the inverse hyperbolic cosine of a number\n",
    "math.asin()\tReturns the arc sine of a number\n",
    "math.asinh()\tReturns the inverse hyperbolic sine of a number\n",
    "math.atan()\tReturns the arc tangent of a number in radians\n",
    "math.atan2()\tReturns the arc tangent of y/x in radians\n",
    "math.atanh()\tReturns the inverse hyperbolic tangent of a number\n",
    "math.ceil()\tRounds a number up to the nearest integer\n",
    "math.comb()\tReturns the number of ways to choose k items from n items without repetition and order\n",
    "math.copysign()\tReturns a float consisting of the value of the first parameter and the sign of the second parameter\n",
    "math.cos()\tReturns the cosine of a number\n",
    "math.cosh()\tReturns the hyperbolic cosine of a number\n",
    "math.degrees()\tConverts an angle from radians to degrees\n",
    "math.dist()\tReturns the Euclidean distance between two points (p and q), where p and q are the coordinates of that point\n",
    "math.erf()\tReturns the error function of a number\n",
    "math.erfc()\tReturns the complementary error function of a number\n",
    "math.exp()\tReturns E raised to the power of x\n",
    "math.expm1()\tReturns Ex - 1\n",
    "math.fabs()\tReturns the absolute value of a number\n",
    "math.factorial()\tReturns the factorial of a number\n",
    "math.floor()\tRounds a number down to the nearest integer\n",
    "math.fmod()\tReturns the remainder of x/y\n",
    "math.frexp()\tReturns the mantissa and the exponent, of a specified number\n",
    "math.fsum()\tReturns the sum of all items in any iterable (tuples, arrays, lists, etc.)\n",
    "math.gamma()\tReturns the gamma function at x\n",
    "math.gcd()\tReturns the greatest common divisor of two integers\n",
    "math.hypot()\tReturns the Euclidean norm\n",
    "math.isclose()\tChecks whether two values are close to each other, or not\n",
    "math.isfinite()\tChecks whether a number is finite or not\n",
    "math.isinf()\tChecks whether a number is infinite or not\n",
    "math.isnan()\tChecks whether a value is NaN (not a number) or not\n",
    "math.isqrt()\tRounds a square root number downwards to the nearest integer\n",
    "math.ldexp()\tReturns the inverse of math.frexp() which is x * (2**i) of the given numbers x and i\n",
    "math.lgamma()\tReturns the log gamma value of x\n",
    "math.log()\tReturns the natural logarithm of a number, or the logarithm of number to base\n",
    "math.log10()\tReturns the base-10 logarithm of x\n",
    "math.log1p()\tReturns the natural logarithm of 1+x\n",
    "math.log2()\tReturns the base-2 logarithm of x\n",
    "math.perm()\tReturns the number of ways to choose k items from n items with order and without repetition\n",
    "math.pow()\tReturns the value of x to the power of y\n",
    "math.prod()\tReturns the product of all the elements in an iterable\n",
    "math.radians()\tConverts a degree value into radians\n",
    "math.remainder()\tReturns the closest value that can make numerator completely divisible by the denominator\n",
    "math.sin()\tReturns the sine of a number\n",
    "math.sinh()\tReturns the hyperbolic sine of a number\n",
    "math.sqrt()\tReturns the square root of a number\n",
    "math.tan()\tReturns the tangent of a number\n",
    "math.tanh()\tReturns the hyperbolic tangent of a number\n",
    "math.trunc()\tReturns the truncated integer parts of a number\n",
    "\n",
    "Math Constants\n",
    "Constant\tDescription\n",
    "math.e\tReturns Euler's number (2.7182...)\n",
    "math.inf\tReturns a floating-point positive infinity\n",
    "math.nan\tReturns a floating-point NaN (Not a Number) value\n",
    "math.pi\tReturns PI (3.1415...)\n",
    "math.tau\tReturns tau (6.2831...)\n",
    "\n",
    "\"\"\"\n",
    "\n",
    "\"\"\"All codes regarding MATH MODULE are completed here. \"\"\""
   ]
  },
  {
   "cell_type": "code",
   "execution_count": 13,
   "id": "c2a38787-d2fc-4674-8960-9424a6352d7a",
   "metadata": {},
   "outputs": [
    {
     "data": {
      "text/plain": [
       "'All codes regarding CMATH MODULE are completed here.'"
      ]
     },
     "execution_count": 13,
     "metadata": {},
     "output_type": "execute_result"
    }
   ],
   "source": [
    "\"\"\"All codes written below are regarding CMATH MODULE. \"\"\"\n",
    "\n",
    "\n",
    "\"\"\"\n",
    "cmath.acos(x)\tReturns the arc cosine value of x\n",
    "cmath.acosh(x)\tReturns the hyperbolic arc cosine of x\n",
    "cmath.asin(x)\tReturns the arc sine of x\n",
    "cmath.asinh(x)\tReturns the hyperbolic arc sine of x\n",
    "cmath.atan(x)\tReturns the arc tangent value of x\n",
    "cmath.atanh(x)\tReturns the hyperbolic arctangent value of x\n",
    "cmath.cos(x)\tReturns the cosine of x\n",
    "cmath.cosh(x)\tReturns the hyperbolic cosine of x\n",
    "cmath.exp(x)\tReturns the value of Ex, where E is Euler's number (approximately 2.718281...), and x is the number passed to it\n",
    "cmath.isclose()\tChecks whether two values are close, or not\n",
    "cmath.isfinite(x)\tChecks whether x is a finite number\n",
    "cmath.isinf(x)\tCheck whether x is a positive or negative infinty\n",
    "cmath.isnan(x)\tChecks whether x is NaN (not a number)\n",
    "cmath.log(x[, base])\tReturns the logarithm of x to the base\n",
    "cmath.log10(x)\tReturns the base-10 logarithm of x\n",
    "cmath.phase()\tReturn the phase of a complex number\n",
    "cmath.polar()\tConvert a complex number to polar coordinates\n",
    "cmath.rect()\tConvert polar coordinates to rectangular form\n",
    "cmath.sin(x)\tReturns the sine of x\n",
    "cmath.sinh(x)\tReturns the hyperbolic sine of x\n",
    "cmath.sqrt(x)\tReturns the square root of x\n",
    "cmath.tan(x)\tReturns the tangent of x\n",
    "cmath.tanh(x)\tReturns the hyperbolic tangent of x\n",
    "\n",
    "cMath Constants\n",
    "Constant\tDescription\n",
    "cmath.e\tReturns Euler's number (2.7182...)\n",
    "cmath.inf\tReturns a floating-point positive infinity value\n",
    "cmath.infj\tReturns a complex infinity value\n",
    "cmath.nan\tReturns floating-point NaN (Not a Number) value\n",
    "cmath.nanj\tReturns coplext NaN (Not a Number) value\n",
    "cmath.pi\tReturns PI (3.1415...)\n",
    "cmath.tau\tReturns tau (6.2831...)\n",
    "\n",
    "\"\"\"\n",
    "\n",
    "\"\"\"All codes regarding CMATH MODULE are completed here.\"\"\""
   ]
  },
  {
   "cell_type": "code",
   "execution_count": null,
   "id": "15bd3d1d-3d51-4a80-8aca-0e6a5e061ea3",
   "metadata": {},
   "outputs": [],
   "source": []
  }
 ],
 "metadata": {
  "kernelspec": {
   "display_name": "Python 3 (ipykernel)",
   "language": "python",
   "name": "python3"
  },
  "language_info": {
   "codemirror_mode": {
    "name": "ipython",
    "version": 3
   },
   "file_extension": ".py",
   "mimetype": "text/x-python",
   "name": "python",
   "nbconvert_exporter": "python",
   "pygments_lexer": "ipython3",
   "version": "3.12.4"
  }
 },
 "nbformat": 4,
 "nbformat_minor": 5
}
