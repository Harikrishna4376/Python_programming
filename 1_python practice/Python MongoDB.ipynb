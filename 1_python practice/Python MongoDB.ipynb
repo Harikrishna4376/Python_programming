{
 "cells": [
  {
   "cell_type": "code",
   "execution_count": 5,
   "id": "9faedca6-993c-4612-95c0-97c5ae781091",
   "metadata": {},
   "outputs": [
    {
     "data": {
      "text/plain": [
       "'All codes regarding GETTING STARTED WITH PYMONGO are completed here. '"
      ]
     },
     "execution_count": 5,
     "metadata": {},
     "output_type": "execute_result"
    }
   ],
   "source": [
    "\"\"\"All codes written below are regarding PYTHON MONGODB. \"\"\"\n",
    "\"\"\"All codes written below are regarding GETTING STARTED WITH PYMONGO. \"\"\"\n",
    "\n",
    "\n",
    "import pymongo\n",
    "\n",
    "\"\"\"All codes regarding GETTING STARTED WITH PYMONGO are completed here. \"\"\""
   ]
  },
  {
   "cell_type": "code",
   "execution_count": 21,
   "id": "da5e9751-6b4a-4260-8dd2-b056e662bcd4",
   "metadata": {},
   "outputs": [
    {
     "name": "stdout",
     "output_type": "stream",
     "text": [
      "['admin', 'config', 'local', 'mydatabase']\n",
      "The database exists.\n"
     ]
    },
    {
     "data": {
      "text/plain": [
       "'All codes regarding CREATING DATABASE are completed here. '"
      ]
     },
     "execution_count": 21,
     "metadata": {},
     "output_type": "execute_result"
    }
   ],
   "source": [
    "\"\"\"All codes written below are regarding CREATING DATABASE. \"\"\"\n",
    "\n",
    "\n",
    "import pymongo\n",
    "myclient = pymongo.MongoClient(\"mongodb://localhost:27017/\")\n",
    "mydb = myclient[\"mydatabase\"]  #database will not be created untill it gets\n",
    "                                                    #content.\n",
    "print(myclient.list_database_names())\n",
    "\n",
    "import pymongo\n",
    "myclient = pymongo.MongoClient('mongodb://localhost:27017/')\n",
    "dblist = myclient.list_database_names()\n",
    "if \"mydatabase\" in dblist:\n",
    "  print(\"The database exists.\")\n",
    "\n",
    "\"\"\"All codes regarding CREATING DATABASE are completed here. \"\"\""
   ]
  },
  {
   "cell_type": "code",
   "execution_count": 27,
   "id": "bd02f3cc-25cb-4e85-80d1-d7b36354ee38",
   "metadata": {},
   "outputs": [
    {
     "name": "stdout",
     "output_type": "stream",
     "text": [
      "ok, db1 is created. no worries. \n"
     ]
    }
   ],
   "source": [
    "import pymongo\n",
    "myclient = pymongo.MongoClient('mongodb://localhost:27017/')\n",
    "mydb = myclient[\"db1\"]\n",
    "mydb.collection.insert_one({\"name\":\"test\"})\n",
    "dblist = myclient.list_database_names()\n",
    "if \"db1\" in dblist:\n",
    "    print(\"ok, db1 is created. no worries. \")\n"
   ]
  },
  {
   "cell_type": "code",
   "execution_count": 39,
   "id": "5274d094-1c05-4a1b-8051-74324996083d",
   "metadata": {},
   "outputs": [
    {
     "name": "stdout",
     "output_type": "stream",
     "text": [
      "[]\n"
     ]
    },
    {
     "data": {
      "text/plain": [
       "'All codes regarding CREATING COLLECTION are completed here. '"
      ]
     },
     "execution_count": 39,
     "metadata": {},
     "output_type": "execute_result"
    }
   ],
   "source": [
    "\"\"\"All codes written below are regarding CREATING COLLECTION. \"\"\"\n",
    "\n",
    "\n",
    "import pymongo\n",
    "myclient = pymongo.MongoClient(\"mongodb://localhost:27017/\")\n",
    "mydb = myclient[\"db2\"]\n",
    "mycol = mydb[\"customers\"]  #collection will not be created untill content.\n",
    "\n",
    "print(mydb.list_collection_names())\n",
    "\n",
    "\"\"\"All codes regarding CREATING COLLECTION are completed here. \"\"\""
   ]
  },
  {
   "cell_type": "code",
   "execution_count": 9,
   "id": "9a7f44a3-c560-4e06-a3b6-22631a724338",
   "metadata": {},
   "outputs": [
    {
     "name": "stdout",
     "output_type": "stream",
     "text": [
      "InsertOneResult(ObjectId('66fbfcab2812544f2c3b537d'), acknowledged=True)\n",
      "['customers']\n",
      "66fbfcab2812544f2c3b537e\n",
      "None\n",
      "{'_id': ObjectId('66e1a4c7e530e61168913c1b'), 'name': 'John', 'address': 'Highway 37'}\n",
      "{'_id': ObjectId('66e1a4fee530e61168913c1d'), 'name': 'John', 'address': 'Highway 37'}\n",
      "{'_id': ObjectId('66e1a4fee530e61168913c1e'), 'name': 'Peter', 'address': 'Lowstreet 27'}\n",
      "{'_id': ObjectId('66e1a511e530e61168913c20'), 'name': 'John', 'address': 'Highway 37'}\n",
      "{'_id': ObjectId('66e1a511e530e61168913c21'), 'name': 'Peter', 'address': 'Lowstreet 27'}\n",
      "{'_id': ObjectId('66e1a594e530e61168913c23'), 'name': 'John', 'address': 'Highway 37'}\n",
      "{'_id': ObjectId('66e1a594e530e61168913c24'), 'name': 'Peter', 'address': 'Lowstreet 27'}\n",
      "{'_id': ObjectId('66e1a5bae530e61168913c26'), 'name': 'John', 'address': 'Highway 37'}\n",
      "{'_id': ObjectId('66e1a5bae530e61168913c27'), 'name': 'Peter', 'address': 'Lowstreet 27'}\n",
      "{'_id': ObjectId('66e1a5c4e530e61168913c29'), 'name': 'John', 'address': 'Highway 37'}\n",
      "{'_id': ObjectId('66e1a5c4e530e61168913c2a'), 'name': 'Peter', 'address': 'Lowstreet 27'}\n",
      "{'_id': ObjectId('66e1a724e530e61168913c2c'), 'name': 'John', 'address': 'Highway 37'}\n",
      "{'_id': ObjectId('66e1a724e530e61168913c2d'), 'name': 'Peter', 'address': 'Lowstreet 27'}\n",
      "{'_id': ObjectId('66e46bcbd1a33160b9b01801'), 'name': 'John', 'address': 'Highway 37'}\n",
      "{'_id': ObjectId('66e46bcbd1a33160b9b01802'), 'name': 'Peter', 'address': 'Lowstreet 27'}\n",
      "{'_id': ObjectId('66e46be4d1a33160b9b01805'), 'name': 'John', 'address': 'Highway 37'}\n",
      "{'_id': ObjectId('66e46be4d1a33160b9b01806'), 'name': 'Peter', 'address': 'Lowstreet 27'}\n",
      "{'_id': ObjectId('66e46be4d1a33160b9b01808'), 'name': 'Amy', 'address': 'Apple st 652'}\n",
      "{'_id': ObjectId('66e46be4d1a33160b9b01809'), 'name': 'Hannah', 'address': 'Mountain 21'}\n",
      "{'_id': ObjectId('66e46be4d1a33160b9b0180a'), 'name': 'Michael', 'address': 'Valley 345'}\n",
      "{'_id': ObjectId('66e46be4d1a33160b9b0180b'), 'name': 'Sandy', 'address': 'Ocean blvd 2'}\n",
      "{'_id': ObjectId('66e46be4d1a33160b9b0180c'), 'name': 'Betty', 'address': 'Green Grass 1'}\n",
      "{'_id': ObjectId('66e46be4d1a33160b9b0180d'), 'name': 'Richard', 'address': 'Sky st 331'}\n",
      "{'_id': ObjectId('66e46be4d1a33160b9b0180e'), 'name': 'Susan', 'address': 'One way 98'}\n",
      "{'_id': ObjectId('66e46be4d1a33160b9b0180f'), 'name': 'Vicky', 'address': 'Yellow Garden 2'}\n",
      "{'_id': ObjectId('66e46be4d1a33160b9b01810'), 'name': 'Ben', 'address': 'Park Lane 38'}\n",
      "{'_id': ObjectId('66e46be4d1a33160b9b01811'), 'name': 'William', 'address': 'Central st 954'}\n",
      "{'_id': ObjectId('66e46be4d1a33160b9b01812'), 'name': 'Chuck', 'address': 'Main Road 989'}\n",
      "{'_id': ObjectId('66e46be4d1a33160b9b01813'), 'name': 'Viola', 'address': 'Sideway 1633'}\n",
      "{'_id': ObjectId('66eafb08d1a33160b9b01815'), 'name': 'John', 'address': 'Highway 37'}\n",
      "{'_id': ObjectId('66eafb08d1a33160b9b01816'), 'name': 'Peter', 'address': 'Lowstreet 27'}\n",
      "{'_id': ObjectId('66eafb08d1a33160b9b01818'), 'name': 'Amy', 'address': 'Apple st 652'}\n",
      "{'_id': ObjectId('66eafb08d1a33160b9b01819'), 'name': 'Hannah', 'address': 'Mountain 21'}\n",
      "{'_id': ObjectId('66eafb08d1a33160b9b0181a'), 'name': 'Michael', 'address': 'Valley 345'}\n",
      "{'_id': ObjectId('66eafb08d1a33160b9b0181b'), 'name': 'Sandy', 'address': 'Ocean blvd 2'}\n",
      "{'_id': ObjectId('66eafb08d1a33160b9b0181c'), 'name': 'Betty', 'address': 'Green Grass 1'}\n",
      "{'_id': ObjectId('66eafb08d1a33160b9b0181d'), 'name': 'Richard', 'address': 'Sky st 331'}\n",
      "{'_id': ObjectId('66eafb08d1a33160b9b0181e'), 'name': 'Susan', 'address': 'One way 98'}\n",
      "{'_id': ObjectId('66eafb08d1a33160b9b0181f'), 'name': 'Vicky', 'address': 'Yellow Garden 2'}\n",
      "{'_id': ObjectId('66eafb08d1a33160b9b01820'), 'name': 'Ben', 'address': 'Park Lane 38'}\n",
      "{'_id': ObjectId('66eafb08d1a33160b9b01821'), 'name': 'William', 'address': 'Central st 954'}\n",
      "{'_id': ObjectId('66eafb08d1a33160b9b01822'), 'name': 'Chuck', 'address': 'Main Road 989'}\n",
      "{'_id': ObjectId('66eafb08d1a33160b9b01823'), 'name': 'Viola', 'address': 'Sideway 1633'}\n",
      "{'_id': 1, 'name': 'John', 'address': 'Highway 37'}\n",
      "{'_id': 2, 'name': 'Peter', 'address': 'Lowstreet 27'}\n",
      "{'_id': 3, 'name': 'Amy', 'address': 'Apple st 652'}\n",
      "{'_id': 4, 'name': 'Hannah', 'address': 'Mountain 21'}\n",
      "{'_id': 5, 'name': 'Michael', 'address': 'Valley 345'}\n",
      "{'_id': 6, 'name': 'Sandy', 'address': 'Ocean blvd 2'}\n",
      "{'_id': 7, 'name': 'Betty', 'address': 'Green Grass 1'}\n",
      "{'_id': 8, 'name': 'Richard', 'address': 'Sky st 331'}\n",
      "{'_id': 9, 'name': 'Susan', 'address': 'One way 98'}\n",
      "{'_id': 10, 'name': 'Vicky', 'address': 'Yellow Garden 2'}\n",
      "{'_id': 11, 'name': 'Ben', 'address': 'Park Lane 38'}\n",
      "{'_id': 12, 'name': 'William', 'address': 'Central st 954'}\n",
      "{'_id': 13, 'name': 'Chuck', 'address': 'Main Road 989'}\n",
      "{'_id': 14, 'name': 'Viola', 'address': 'Sideway 1633'}\n",
      "{'_id': ObjectId('66eafb29d1a33160b9b01826'), 'name': 'John', 'address': 'Highway 37'}\n",
      "{'_id': ObjectId('66eafb29d1a33160b9b01827'), 'name': 'Peter', 'address': 'Lowstreet 27'}\n",
      "{'_id': ObjectId('66eafb29d1a33160b9b01829'), 'name': 'Amy', 'address': 'Apple st 652'}\n",
      "{'_id': ObjectId('66eafb29d1a33160b9b0182a'), 'name': 'Hannah', 'address': 'Mountain 21'}\n",
      "{'_id': ObjectId('66eafb29d1a33160b9b0182b'), 'name': 'Michael', 'address': 'Valley 345'}\n",
      "{'_id': ObjectId('66eafb29d1a33160b9b0182c'), 'name': 'Sandy', 'address': 'Ocean blvd 2'}\n",
      "{'_id': ObjectId('66eafb29d1a33160b9b0182d'), 'name': 'Betty', 'address': 'Green Grass 1'}\n",
      "{'_id': ObjectId('66eafb29d1a33160b9b0182e'), 'name': 'Richard', 'address': 'Sky st 331'}\n",
      "{'_id': ObjectId('66eafb29d1a33160b9b0182f'), 'name': 'Susan', 'address': 'One way 98'}\n",
      "{'_id': ObjectId('66eafb29d1a33160b9b01830'), 'name': 'Vicky', 'address': 'Yellow Garden 2'}\n",
      "{'_id': ObjectId('66eafb29d1a33160b9b01831'), 'name': 'Ben', 'address': 'Park Lane 38'}\n",
      "{'_id': ObjectId('66eafb29d1a33160b9b01832'), 'name': 'William', 'address': 'Central st 954'}\n",
      "{'_id': ObjectId('66eafb29d1a33160b9b01833'), 'name': 'Chuck', 'address': 'Main Road 989'}\n",
      "{'_id': ObjectId('66eafb29d1a33160b9b01834'), 'name': 'Viola', 'address': 'Sideway 1633'}\n",
      "{'_id': ObjectId('66fbfc062812544f2c3b5352'), 'name': 'John', 'address': 'Highway 37'}\n",
      "{'_id': ObjectId('66fbfc062812544f2c3b5353'), 'name': 'Peter', 'address': 'Lowstreet 27'}\n",
      "{'_id': ObjectId('66fbfc122812544f2c3b5356'), 'name': 'John', 'address': 'Highway 37'}\n",
      "{'_id': ObjectId('66fbfc122812544f2c3b5357'), 'name': 'Peter', 'address': 'Lowstreet 27'}\n",
      "{'_id': ObjectId('66fbfc2a2812544f2c3b535b'), 'name': 'John', 'address': 'Highway 37'}\n",
      "{'_id': ObjectId('66fbfc2a2812544f2c3b535c'), 'name': 'Peter', 'address': 'Lowstreet 27'}\n",
      "{'_id': ObjectId('66fbfc2a2812544f2c3b535e'), 'name': 'Amy', 'address': 'Apple st 652'}\n",
      "{'_id': ObjectId('66fbfc2a2812544f2c3b535f'), 'name': 'Hannah', 'address': 'Mountain 21'}\n",
      "{'_id': ObjectId('66fbfc2a2812544f2c3b5360'), 'name': 'Michael', 'address': 'Valley 345'}\n",
      "{'_id': ObjectId('66fbfc2a2812544f2c3b5361'), 'name': 'Sandy', 'address': 'Ocean blvd 2'}\n",
      "{'_id': ObjectId('66fbfc2a2812544f2c3b5362'), 'name': 'Betty', 'address': 'Green Grass 1'}\n",
      "{'_id': ObjectId('66fbfc2a2812544f2c3b5363'), 'name': 'Richard', 'address': 'Sky st 331'}\n",
      "{'_id': ObjectId('66fbfc2a2812544f2c3b5364'), 'name': 'Susan', 'address': 'One way 98'}\n",
      "{'_id': ObjectId('66fbfc2a2812544f2c3b5365'), 'name': 'Vicky', 'address': 'Yellow Garden 2'}\n",
      "{'_id': ObjectId('66fbfc2a2812544f2c3b5366'), 'name': 'Ben', 'address': 'Park Lane 38'}\n",
      "{'_id': ObjectId('66fbfc2a2812544f2c3b5367'), 'name': 'William', 'address': 'Central st 954'}\n",
      "{'_id': ObjectId('66fbfc2a2812544f2c3b5368'), 'name': 'Chuck', 'address': 'Main Road 989'}\n",
      "{'_id': ObjectId('66fbfc2a2812544f2c3b5369'), 'name': 'Viola', 'address': 'Sideway 1633'}\n",
      "{'_id': ObjectId('66fbfc412812544f2c3b536c'), 'name': 'John', 'address': 'Highway 37'}\n",
      "{'_id': ObjectId('66fbfc412812544f2c3b536d'), 'name': 'Peter', 'address': 'Lowstreet 27'}\n",
      "{'_id': ObjectId('66fbfc412812544f2c3b536f'), 'name': 'Amy', 'address': 'Apple st 652'}\n",
      "{'_id': ObjectId('66fbfc412812544f2c3b5370'), 'name': 'Hannah', 'address': 'Mountain 21'}\n",
      "{'_id': ObjectId('66fbfc412812544f2c3b5371'), 'name': 'Michael', 'address': 'Valley 345'}\n",
      "{'_id': ObjectId('66fbfc412812544f2c3b5372'), 'name': 'Sandy', 'address': 'Ocean blvd 2'}\n",
      "{'_id': ObjectId('66fbfc412812544f2c3b5373'), 'name': 'Betty', 'address': 'Green Grass 1'}\n",
      "{'_id': ObjectId('66fbfc412812544f2c3b5374'), 'name': 'Richard', 'address': 'Sky st 331'}\n",
      "{'_id': ObjectId('66fbfc412812544f2c3b5375'), 'name': 'Susan', 'address': 'One way 98'}\n",
      "{'_id': ObjectId('66fbfc412812544f2c3b5376'), 'name': 'Vicky', 'address': 'Yellow Garden 2'}\n",
      "{'_id': ObjectId('66fbfc412812544f2c3b5377'), 'name': 'Ben', 'address': 'Park Lane 38'}\n",
      "{'_id': ObjectId('66fbfc412812544f2c3b5378'), 'name': 'William', 'address': 'Central st 954'}\n",
      "{'_id': ObjectId('66fbfc412812544f2c3b5379'), 'name': 'Chuck', 'address': 'Main Road 989'}\n",
      "{'_id': ObjectId('66fbfc412812544f2c3b537a'), 'name': 'Viola', 'address': 'Sideway 1633'}\n",
      "{'_id': ObjectId('66fbfcab2812544f2c3b537d'), 'name': 'John', 'address': 'Highway 37'}\n",
      "{'_id': ObjectId('66fbfcab2812544f2c3b537e'), 'name': 'Peter', 'address': 'Lowstreet 27'}\n",
      "[ObjectId('66fbfcab2812544f2c3b5380'), ObjectId('66fbfcab2812544f2c3b5381'), ObjectId('66fbfcab2812544f2c3b5382'), ObjectId('66fbfcab2812544f2c3b5383'), ObjectId('66fbfcab2812544f2c3b5384'), ObjectId('66fbfcab2812544f2c3b5385'), ObjectId('66fbfcab2812544f2c3b5386'), ObjectId('66fbfcab2812544f2c3b5387'), ObjectId('66fbfcab2812544f2c3b5388'), ObjectId('66fbfcab2812544f2c3b5389'), ObjectId('66fbfcab2812544f2c3b538a'), ObjectId('66fbfcab2812544f2c3b538b')]\n",
      "[1, 2, 3, 4, 5, 6, 7, 8, 9, 10, 11, 12, 13, 14]\n"
     ]
    },
    {
     "data": {
      "text/plain": [
       "'All codes regarding INSERT are completed here. '"
      ]
     },
     "execution_count": 9,
     "metadata": {},
     "output_type": "execute_result"
    }
   ],
   "source": [
    "\"\"\"All codes written below are regarding INSERTING DOCUMENT. \"\"\"\n",
    "#document in mongo is same as record in SQL. \n",
    "\n",
    "\n",
    "import pymongo\n",
    "myclient = pymongo.MongoClient(\"mongodb://localhost:27017/\")\n",
    "mydb = myclient[\"db2\"]\n",
    "mycol = mydb[\"customers\"]\n",
    "mydict = {\n",
    "    \"name\":\"John\",\n",
    "    \"address\":\"Highway 37\"\n",
    "}\n",
    "x = mycol.insert_one(mydict)\n",
    "print(x)\n",
    "print(mydb.list_collection_names())\n",
    "\n",
    "mydict = {\n",
    "    \"name\":\"Peter\",\n",
    "    \"address\":\"Lowstreet 27\"\n",
    "}\n",
    "x = mycol.insert_one(mydict)\n",
    "print(x.inserted_id)\n",
    "\n",
    "doc = mydb.mycollection.find_one({\"Peter\":\"Lowstreet 27\"})\n",
    "print(doc)\n",
    "\n",
    "for x in mycol.find():\n",
    "    print(x)\n",
    "\n",
    "import pymongo\n",
    "myclient = pymongo.MongoClient(\"mongodb://localhost:27017/\")\n",
    "mydb = myclient[\"db2\"]\n",
    "mycol = mydb[\"customers\"]\n",
    "mylist = [\n",
    "    {\"name\":\"Amy\",\"address\":\"Apple st 652\"},\n",
    "    {\"name\":\"Hannah\",\"address\":\"Mountain 21\"},\n",
    "    {\"name\":\"Michael\",\"address\":\"Valley 345\"},\n",
    "    {\"name\":\"Sandy\",\"address\":\"Ocean blvd 2\"},\n",
    "    {\"name\":\"Betty\",\"address\":\"Green Grass 1\"},\n",
    "    {\"name\":\"Richard\",\"address\":\"Sky st 331\"},\n",
    "    {\"name\":\"Susan\",\"address\":\"One way 98\"},\n",
    "    {\"name\":\"Vicky\",\"address\":\"Yellow Garden 2\"},\n",
    "    {\"name\":\"Ben\",\"address\":\"Park Lane 38\"},\n",
    "    {\"name\":\"William\",\"address\":\"Central st 954\"},\n",
    "    {\"name\":\"Chuck\",\"address\":\"Main Road 989\"},\n",
    "    {\"name\":\"Viola\",\"address\":\"Sideway 1633\"}\n",
    "]\n",
    "mycol.delete_many({})\n",
    "x = mycol.insert_many(mylist)\n",
    "print(x.inserted_ids)\n",
    "\n",
    "import pymongo\n",
    "myclient = pymongo.MongoClient(\"mongodb://localhost:27017/\")\n",
    "mydb = myclient[\"db2\"]\n",
    "mycol = mydb[\"customers\"]\n",
    "mylist = [\n",
    "  { \"_id\": 1, \"name\": \"John\", \"address\": \"Highway 37\"},\n",
    "  { \"_id\": 2, \"name\": \"Peter\", \"address\": \"Lowstreet 27\"},\n",
    "  { \"_id\": 3, \"name\": \"Amy\", \"address\": \"Apple st 652\"},\n",
    "  { \"_id\": 4, \"name\": \"Hannah\", \"address\": \"Mountain 21\"},\n",
    "  { \"_id\": 5, \"name\": \"Michael\", \"address\": \"Valley 345\"},\n",
    "  { \"_id\": 6, \"name\": \"Sandy\", \"address\": \"Ocean blvd 2\"},\n",
    "  { \"_id\": 7, \"name\": \"Betty\", \"address\": \"Green Grass 1\"},\n",
    "  { \"_id\": 8, \"name\": \"Richard\", \"address\": \"Sky st 331\"},\n",
    "  { \"_id\": 9, \"name\": \"Susan\", \"address\": \"One way 98\"},\n",
    "  { \"_id\": 10, \"name\": \"Vicky\", \"address\": \"Yellow Garden 2\"},\n",
    "  { \"_id\": 11, \"name\": \"Ben\", \"address\": \"Park Lane 38\"},\n",
    "  { \"_id\": 12, \"name\": \"William\", \"address\": \"Central st 954\"},\n",
    "  { \"_id\": 13, \"name\": \"Chuck\", \"address\": \"Main Road 989\"},\n",
    "  { \"_id\": 14, \"name\": \"Viola\", \"address\": \"Sideway 1633\"}\n",
    "]\n",
    "x = mycol.insert_many(mylist)\n",
    "print(x.inserted_ids)\n",
    "\n",
    "\"\"\"All codes regarding INSERT are completed here. \"\"\""
   ]
  },
  {
   "cell_type": "code",
   "execution_count": null,
   "id": "ac3b9e1c-fc8e-46d0-a58a-c6c1b782d246",
   "metadata": {},
   "outputs": [],
   "source": [
    "import pymongo\n",
    "myclient = pymongo.MongoClient(\"mongodb://localhost:27017/\")\n",
    "mydb = myclient(\"db2\")\n",
    "mycol.create_index(\"name\",unique=True)\n",
    "try:\n",
    "    mycol.insert_one({\"name\":\"John\",\"address\":\"Highway 37\"})\n",
    "    print(\"Inserted John.\")\n",
    "except pymongo.errors.DuplicateKeyError:\n",
    "    print(\"Duplicate entry for John.\")"
   ]
  },
  {
   "cell_type": "code",
   "execution_count": 31,
   "id": "c452258d-63b0-4ec6-9569-63484c60cf77",
   "metadata": {},
   "outputs": [
    {
     "name": "stdout",
     "output_type": "stream",
     "text": [
      "{'_id': ObjectId('66fbfcab2812544f2c3b5380'), 'name': 'Amy', 'address': 'Apple st 652'}\n",
      "{'_id': ObjectId('66fbfcab2812544f2c3b5380'), 'name': 'Amy', 'address': 'Apple st 652'}\n",
      "{'_id': ObjectId('66fbfcab2812544f2c3b5381'), 'name': 'Hannah', 'address': 'Mountain 21'}\n",
      "{'_id': ObjectId('66fbfcab2812544f2c3b5382'), 'name': 'Michael', 'address': 'Valley 345'}\n",
      "{'_id': ObjectId('66fbfcab2812544f2c3b5383'), 'name': 'Sandy', 'address': 'Ocean blvd 2'}\n",
      "{'_id': ObjectId('66fbfcab2812544f2c3b5384'), 'name': 'Betty', 'address': 'Green Grass 1'}\n",
      "{'_id': ObjectId('66fbfcab2812544f2c3b5385'), 'name': 'Richard', 'address': 'Sky st 331'}\n",
      "{'_id': ObjectId('66fbfcab2812544f2c3b5386'), 'name': 'Susan', 'address': 'One way 98'}\n",
      "{'_id': ObjectId('66fbfcab2812544f2c3b5387'), 'name': 'Vicky', 'address': 'Yellow Garden 2'}\n",
      "{'_id': ObjectId('66fbfcab2812544f2c3b5388'), 'name': 'Ben', 'address': 'Park Lane 38'}\n",
      "{'_id': ObjectId('66fbfcab2812544f2c3b5389'), 'name': 'William', 'address': 'Central st 954'}\n",
      "{'_id': ObjectId('66fbfcab2812544f2c3b538a'), 'name': 'Chuck', 'address': 'Main Road 989'}\n",
      "{'_id': ObjectId('66fbfcab2812544f2c3b538b'), 'name': 'Viola', 'address': 'Sideway 1633'}\n",
      "{'_id': 1, 'name': 'John', 'address': 'Highway 37'}\n",
      "{'_id': 2, 'name': 'Peter', 'address': 'Lowstreet 27'}\n",
      "{'_id': 3, 'name': 'Amy', 'address': 'Apple st 652'}\n",
      "{'_id': 4, 'name': 'Hannah', 'address': 'Mountain 21'}\n",
      "{'_id': 5, 'name': 'Michael', 'address': 'Valley 345'}\n",
      "{'_id': 6, 'name': 'Sandy', 'address': 'Ocean blvd 2'}\n",
      "{'_id': 7, 'name': 'Betty', 'address': 'Green Grass 1'}\n",
      "{'_id': 8, 'name': 'Richard', 'address': 'Sky st 331'}\n",
      "{'_id': 9, 'name': 'Susan', 'address': 'One way 98'}\n",
      "{'_id': 10, 'name': 'Vicky', 'address': 'Yellow Garden 2'}\n",
      "{'_id': 11, 'name': 'Ben', 'address': 'Park Lane 38'}\n",
      "{'_id': 12, 'name': 'William', 'address': 'Central st 954'}\n",
      "{'_id': 13, 'name': 'Chuck', 'address': 'Main Road 989'}\n",
      "{'_id': 14, 'name': 'Viola', 'address': 'Sideway 1633'}\n",
      "{'name': 'Amy', 'address': 'Apple st 652'}\n",
      "{'name': 'Hannah', 'address': 'Mountain 21'}\n",
      "{'name': 'Michael', 'address': 'Valley 345'}\n",
      "{'name': 'Sandy', 'address': 'Ocean blvd 2'}\n",
      "{'name': 'Betty', 'address': 'Green Grass 1'}\n",
      "{'name': 'Richard', 'address': 'Sky st 331'}\n",
      "{'name': 'Susan', 'address': 'One way 98'}\n",
      "{'name': 'Vicky', 'address': 'Yellow Garden 2'}\n",
      "{'name': 'Ben', 'address': 'Park Lane 38'}\n",
      "{'name': 'William', 'address': 'Central st 954'}\n",
      "{'name': 'Chuck', 'address': 'Main Road 989'}\n",
      "{'name': 'Viola', 'address': 'Sideway 1633'}\n",
      "{'name': 'John', 'address': 'Highway 37'}\n",
      "{'name': 'Peter', 'address': 'Lowstreet 27'}\n",
      "{'name': 'Amy', 'address': 'Apple st 652'}\n",
      "{'name': 'Hannah', 'address': 'Mountain 21'}\n",
      "{'name': 'Michael', 'address': 'Valley 345'}\n",
      "{'name': 'Sandy', 'address': 'Ocean blvd 2'}\n",
      "{'name': 'Betty', 'address': 'Green Grass 1'}\n",
      "{'name': 'Richard', 'address': 'Sky st 331'}\n",
      "{'name': 'Susan', 'address': 'One way 98'}\n",
      "{'name': 'Vicky', 'address': 'Yellow Garden 2'}\n",
      "{'name': 'Ben', 'address': 'Park Lane 38'}\n",
      "{'name': 'William', 'address': 'Central st 954'}\n",
      "{'name': 'Chuck', 'address': 'Main Road 989'}\n",
      "{'name': 'Viola', 'address': 'Sideway 1633'}\n",
      "{'_id': ObjectId('66fbfcab2812544f2c3b5380'), 'name': 'Amy'}\n",
      "{'_id': ObjectId('66fbfcab2812544f2c3b5381'), 'name': 'Hannah'}\n",
      "{'_id': ObjectId('66fbfcab2812544f2c3b5382'), 'name': 'Michael'}\n",
      "{'_id': ObjectId('66fbfcab2812544f2c3b5383'), 'name': 'Sandy'}\n",
      "{'_id': ObjectId('66fbfcab2812544f2c3b5384'), 'name': 'Betty'}\n",
      "{'_id': ObjectId('66fbfcab2812544f2c3b5385'), 'name': 'Richard'}\n",
      "{'_id': ObjectId('66fbfcab2812544f2c3b5386'), 'name': 'Susan'}\n",
      "{'_id': ObjectId('66fbfcab2812544f2c3b5387'), 'name': 'Vicky'}\n",
      "{'_id': ObjectId('66fbfcab2812544f2c3b5388'), 'name': 'Ben'}\n",
      "{'_id': ObjectId('66fbfcab2812544f2c3b5389'), 'name': 'William'}\n",
      "{'_id': ObjectId('66fbfcab2812544f2c3b538a'), 'name': 'Chuck'}\n",
      "{'_id': ObjectId('66fbfcab2812544f2c3b538b'), 'name': 'Viola'}\n",
      "{'_id': 1, 'name': 'John'}\n",
      "{'_id': 2, 'name': 'Peter'}\n",
      "{'_id': 3, 'name': 'Amy'}\n",
      "{'_id': 4, 'name': 'Hannah'}\n",
      "{'_id': 5, 'name': 'Michael'}\n",
      "{'_id': 6, 'name': 'Sandy'}\n",
      "{'_id': 7, 'name': 'Betty'}\n",
      "{'_id': 8, 'name': 'Richard'}\n",
      "{'_id': 9, 'name': 'Susan'}\n",
      "{'_id': 10, 'name': 'Vicky'}\n",
      "{'_id': 11, 'name': 'Ben'}\n",
      "{'_id': 12, 'name': 'William'}\n",
      "{'_id': 13, 'name': 'Chuck'}\n",
      "{'_id': 14, 'name': 'Viola'}\n"
     ]
    },
    {
     "data": {
      "text/plain": [
       "'All codes regarding FIND are completed here. '"
      ]
     },
     "execution_count": 31,
     "metadata": {},
     "output_type": "execute_result"
    }
   ],
   "source": [
    "\"\"\"All codes written below are regarding FIND. \"\"\"\n",
    "\n",
    "\n",
    "import pymongo\n",
    "pymongo.MongoClient(\"mongodb://localhost:27017/\")\n",
    "mydb = myclient[\"db2\"]\n",
    "mycol = mydb[\"customers\"]\n",
    "x = mycol.find_one()  #will find only one data. \n",
    "print(x)\n",
    "\n",
    "import pymongo\n",
    "myclient = pymongo.MongoClient(\"mongodb://localhost:27017/\")\n",
    "mydb = myclient[\"db2\"]\n",
    "mycol = mydb[\"customers\"]\n",
    "for x in mycol.find():  #will find all data.\n",
    "    print(x)\n",
    "\n",
    "import pymongo\n",
    "myclient = pymongo.MongoClient(\"mongodb://localhost:27017/\")\n",
    "mydb = myclient[\"db2\"]\n",
    "mycol = mydb[\"customers\"]\n",
    "for x in mycol.find({},{\"_id\": 0,\"name\": 1,\"address\": 1}):\n",
    "    print(x) #It will return only name,addresses not the ids.\n",
    "\n",
    "import pymongo\n",
    "myclient = pymongo.MongoClient(\"mongodb://localhost:27017/\")\n",
    "mydb = myclient[\"db2\"]\n",
    "mycol = mydb[\"customers\"]\n",
    "for x in mycol.find({},{\"address\": 0}):  #It will exclude address.\n",
    "    print(x)\n",
    "\n",
    "\"\"\"All codes regarding FIND are completed here. \"\"\""
   ]
  },
  {
   "cell_type": "code",
   "execution_count": 41,
   "id": "0617c002-f987-4e8a-958d-5cd628a2248f",
   "metadata": {},
   "outputs": [
    {
     "name": "stdout",
     "output_type": "stream",
     "text": [
      "{'_id': ObjectId('66fbfcab2812544f2c3b5388'), 'name': 'Ben', 'address': 'Park Lane 38'}\n",
      "{'_id': 11, 'name': 'Ben', 'address': 'Park Lane 38'}\n",
      "{'_id': ObjectId('66fbfcab2812544f2c3b5382'), 'name': 'Michael', 'address': 'Valley 345'}\n",
      "{'_id': ObjectId('66fbfcab2812544f2c3b5385'), 'name': 'Richard', 'address': 'Sky st 331'}\n",
      "{'_id': ObjectId('66fbfcab2812544f2c3b5387'), 'name': 'Vicky', 'address': 'Yellow Garden 2'}\n",
      "{'_id': ObjectId('66fbfcab2812544f2c3b538b'), 'name': 'Viola', 'address': 'Sideway 1633'}\n",
      "{'_id': 5, 'name': 'Michael', 'address': 'Valley 345'}\n",
      "{'_id': 8, 'name': 'Richard', 'address': 'Sky st 331'}\n",
      "{'_id': 10, 'name': 'Vicky', 'address': 'Yellow Garden 2'}\n",
      "{'_id': 14, 'name': 'Viola', 'address': 'Sideway 1633'}\n",
      "{'_id': ObjectId('66fbfcab2812544f2c3b5385'), 'name': 'Richard', 'address': 'Sky st 331'}\n",
      "{'_id': ObjectId('66fbfcab2812544f2c3b538b'), 'name': 'Viola', 'address': 'Sideway 1633'}\n",
      "{'_id': 8, 'name': 'Richard', 'address': 'Sky st 331'}\n",
      "{'_id': 14, 'name': 'Viola', 'address': 'Sideway 1633'}\n"
     ]
    },
    {
     "data": {
      "text/plain": [
       "'All codes regarding QUERY are completed here. '"
      ]
     },
     "execution_count": 41,
     "metadata": {},
     "output_type": "execute_result"
    }
   ],
   "source": [
    "\"\"\"All codes written below are regarding QUERY. \"\"\"\n",
    "\n",
    "\n",
    "import pymongo\n",
    "myclient = pymongo.MongoClient(\"mongodb://localhost:27017/\")\n",
    "mydb = myclient[\"db2\"]\n",
    "mycol = mydb[\"customers\"]\n",
    "myquery = {\"address\": \"Park Lane 38\"}  #finding particular address data.\n",
    "mydoc = mycol.find(myquery)\n",
    "for x in mydoc:\n",
    "    print(x)\n",
    "\n",
    "import pymongo\n",
    "myclient = pymongo.MongoClient(\"mongodb://localhost:27017/\")\n",
    "mydb = myclient[\"db2\"]\n",
    "mycol = mydb[\"customers\"]\n",
    "myquery = {\"address\": {\"$gt\": \"S\"}} #Finds data with address starting\n",
    "mydoc = mycol.find(myquery)         #with \"S\" or higher.\n",
    "for x in mydoc:\n",
    "    print(x)\n",
    "\n",
    "import pymongo\n",
    "myclient = pymongo.MongoClient(\"mongodb://localhost:27017/\")\n",
    "mydb = myclient[\"db2\"]\n",
    "mycol = mydb[\"customers\"]\n",
    "myquery = {\"address\":{\"$regex\":\"^S\"}} #Finding data having address\n",
    "mydoc = mycol.find(myquery)           #starting with \"S\".\n",
    "for x in mydoc:\n",
    "    print(x)\n",
    "\n",
    "\"\"\"All codes regarding QUERY are completed here. \"\"\""
   ]
  },
  {
   "cell_type": "code",
   "execution_count": 47,
   "id": "7a6647eb-e26f-4463-b49c-f9000e473789",
   "metadata": {},
   "outputs": [
    {
     "name": "stdout",
     "output_type": "stream",
     "text": [
      "{'_id': ObjectId('66fbfcab2812544f2c3b5380'), 'name': 'Amy', 'address': 'Apple st 652'}\n",
      "{'_id': 3, 'name': 'Amy', 'address': 'Apple st 652'}\n",
      "{'_id': ObjectId('66fbfcab2812544f2c3b5388'), 'name': 'Ben', 'address': 'Park Lane 38'}\n",
      "{'_id': 11, 'name': 'Ben', 'address': 'Park Lane 38'}\n",
      "{'_id': ObjectId('66fbfcab2812544f2c3b5384'), 'name': 'Betty', 'address': 'Green Grass 1'}\n",
      "{'_id': 7, 'name': 'Betty', 'address': 'Green Grass 1'}\n",
      "{'_id': ObjectId('66fbfcab2812544f2c3b538a'), 'name': 'Chuck', 'address': 'Main Road 989'}\n",
      "{'_id': 13, 'name': 'Chuck', 'address': 'Main Road 989'}\n",
      "{'_id': ObjectId('66fbfcab2812544f2c3b5381'), 'name': 'Hannah', 'address': 'Mountain 21'}\n",
      "{'_id': 4, 'name': 'Hannah', 'address': 'Mountain 21'}\n",
      "{'_id': 1, 'name': 'John', 'address': 'Highway 37'}\n",
      "{'_id': ObjectId('66fbfcab2812544f2c3b5382'), 'name': 'Michael', 'address': 'Valley 345'}\n",
      "{'_id': 5, 'name': 'Michael', 'address': 'Valley 345'}\n",
      "{'_id': 2, 'name': 'Peter', 'address': 'Lowstreet 27'}\n",
      "{'_id': ObjectId('66fbfcab2812544f2c3b5385'), 'name': 'Richard', 'address': 'Sky st 331'}\n",
      "{'_id': 8, 'name': 'Richard', 'address': 'Sky st 331'}\n",
      "{'_id': ObjectId('66fbfcab2812544f2c3b5383'), 'name': 'Sandy', 'address': 'Ocean blvd 2'}\n",
      "{'_id': 6, 'name': 'Sandy', 'address': 'Ocean blvd 2'}\n",
      "{'_id': ObjectId('66fbfcab2812544f2c3b5386'), 'name': 'Susan', 'address': 'One way 98'}\n",
      "{'_id': 9, 'name': 'Susan', 'address': 'One way 98'}\n",
      "{'_id': ObjectId('66fbfcab2812544f2c3b5387'), 'name': 'Vicky', 'address': 'Yellow Garden 2'}\n",
      "{'_id': 10, 'name': 'Vicky', 'address': 'Yellow Garden 2'}\n",
      "{'_id': ObjectId('66fbfcab2812544f2c3b538b'), 'name': 'Viola', 'address': 'Sideway 1633'}\n",
      "{'_id': 14, 'name': 'Viola', 'address': 'Sideway 1633'}\n",
      "{'_id': ObjectId('66fbfcab2812544f2c3b5389'), 'name': 'William', 'address': 'Central st 954'}\n",
      "{'_id': 12, 'name': 'William', 'address': 'Central st 954'}\n",
      "{'_id': ObjectId('66fbfcab2812544f2c3b5389'), 'name': 'William', 'address': 'Central st 954'}\n",
      "{'_id': 12, 'name': 'William', 'address': 'Central st 954'}\n",
      "{'_id': ObjectId('66fbfcab2812544f2c3b538b'), 'name': 'Viola', 'address': 'Sideway 1633'}\n",
      "{'_id': 14, 'name': 'Viola', 'address': 'Sideway 1633'}\n",
      "{'_id': ObjectId('66fbfcab2812544f2c3b5387'), 'name': 'Vicky', 'address': 'Yellow Garden 2'}\n",
      "{'_id': 10, 'name': 'Vicky', 'address': 'Yellow Garden 2'}\n",
      "{'_id': ObjectId('66fbfcab2812544f2c3b5386'), 'name': 'Susan', 'address': 'One way 98'}\n",
      "{'_id': 9, 'name': 'Susan', 'address': 'One way 98'}\n",
      "{'_id': ObjectId('66fbfcab2812544f2c3b5383'), 'name': 'Sandy', 'address': 'Ocean blvd 2'}\n",
      "{'_id': 6, 'name': 'Sandy', 'address': 'Ocean blvd 2'}\n",
      "{'_id': ObjectId('66fbfcab2812544f2c3b5385'), 'name': 'Richard', 'address': 'Sky st 331'}\n",
      "{'_id': 8, 'name': 'Richard', 'address': 'Sky st 331'}\n",
      "{'_id': 2, 'name': 'Peter', 'address': 'Lowstreet 27'}\n",
      "{'_id': ObjectId('66fbfcab2812544f2c3b5382'), 'name': 'Michael', 'address': 'Valley 345'}\n",
      "{'_id': 5, 'name': 'Michael', 'address': 'Valley 345'}\n",
      "{'_id': 1, 'name': 'John', 'address': 'Highway 37'}\n",
      "{'_id': ObjectId('66fbfcab2812544f2c3b5381'), 'name': 'Hannah', 'address': 'Mountain 21'}\n",
      "{'_id': 4, 'name': 'Hannah', 'address': 'Mountain 21'}\n",
      "{'_id': ObjectId('66fbfcab2812544f2c3b538a'), 'name': 'Chuck', 'address': 'Main Road 989'}\n",
      "{'_id': 13, 'name': 'Chuck', 'address': 'Main Road 989'}\n",
      "{'_id': ObjectId('66fbfcab2812544f2c3b5384'), 'name': 'Betty', 'address': 'Green Grass 1'}\n",
      "{'_id': 7, 'name': 'Betty', 'address': 'Green Grass 1'}\n",
      "{'_id': ObjectId('66fbfcab2812544f2c3b5388'), 'name': 'Ben', 'address': 'Park Lane 38'}\n",
      "{'_id': 11, 'name': 'Ben', 'address': 'Park Lane 38'}\n",
      "{'_id': ObjectId('66fbfcab2812544f2c3b5380'), 'name': 'Amy', 'address': 'Apple st 652'}\n",
      "{'_id': 3, 'name': 'Amy', 'address': 'Apple st 652'}\n"
     ]
    },
    {
     "data": {
      "text/plain": [
       "'All codes regardiing SORT are completed here. '"
      ]
     },
     "execution_count": 47,
     "metadata": {},
     "output_type": "execute_result"
    }
   ],
   "source": [
    "\"\"\"All codes written below are regarding SORT. \"\"\"\n",
    "\n",
    "\n",
    "import pymongo\n",
    "myclient = pymongo.MongoClient(\"mongodb://localhost:27017/\")\n",
    "mydb = myclient[\"db2\"]\n",
    "mycol = mydb[\"customers\"]\n",
    "mydoc = mycol.find().sort(\"name\") #will sort the data ascending. \n",
    "for x in mydoc:\n",
    "    print(x)\n",
    "\n",
    "import pymongo\n",
    "myclient = pymongo.MongoClient(\"mongodb://localhost:27017/\")\n",
    "mydb = myclient[\"db2\"]\n",
    "mycol = mydb[\"customers\"]\n",
    "mydoc = mycol.find().sort(\"name\",-1) #\"-1\" means inverse sort.\n",
    "for x in mydoc:\n",
    "    print(x)\n",
    "\n",
    "\"\"\"All codes regardiing SORT are completed here. \"\"\""
   ]
  },
  {
   "cell_type": "code",
   "execution_count": 59,
   "id": "d1aa13b8-8676-4617-80cd-0c751633d7b9",
   "metadata": {},
   "outputs": [
    {
     "name": "stdout",
     "output_type": "stream",
     "text": [
      "0 documents deleted.\n",
      "0 documents deleted. \n"
     ]
    },
    {
     "data": {
      "text/plain": [
       "'All codes regarding DELETE are completed here. '"
      ]
     },
     "execution_count": 59,
     "metadata": {},
     "output_type": "execute_result"
    }
   ],
   "source": [
    "\"\"\"All codes written below are regarding DELETE DOCUMENT. \"\"\"\n",
    "\n",
    "\n",
    "import pymongo\n",
    "myclient = pymongo.MongoClient(\"mongodb://localhost:27017/\")\n",
    "mydb = myclient[\"db2\"]\n",
    "mycol = mydb[\"customers\"]\n",
    "myquery = {\"address\":\"Mountain 21\"}\n",
    "mycol.delete_one(myquery) #It will delete one data. \n",
    "\n",
    "import pymongo\n",
    "myclient = pymongo.MongoClient(\"mongodb://localhost:27017/\")\n",
    "mydb = myclient[\"db2\"]\n",
    "mycol = mydb[\"customers\"]\n",
    "myquery = {\"address\":{\"$regex\":\"^S\"}}\n",
    "x = mycol.delete_many(myquery)\n",
    "print(x.deleted_count, \"documents deleted.\")\n",
    "\n",
    "import pymongo\n",
    "myclient = pymongo.MongoClient(\"mongodb://localhost:27017/\")\n",
    "mydb = myclient[\"db2\"]\n",
    "mycol = mydb[\"customers\"]\n",
    "x = mycol.delete_many({})\n",
    "print(x.deleted_count, \"documents deleted. \")\n",
    "\n",
    "\"\"\"All codes regarding DELETE are completed here. \"\"\""
   ]
  },
  {
   "cell_type": "code",
   "execution_count": 75,
   "id": "5543d63a-a7dd-452c-a959-a0a3a70acf09",
   "metadata": {},
   "outputs": [
    {
     "name": "stdout",
     "output_type": "stream",
     "text": [
      "[1, 2, 3, 4, 5, 6, 7, 8, 9, 10, 11, 12, 13, 14]\n"
     ]
    }
   ],
   "source": [
    "import pymongo\n",
    "myclient = pymongo.MongoClient(\"mongodb://localhost:27017/\")\n",
    "mydb = myclient[\"db2\"]\n",
    "mycol = mydb[\"customers\"]\n",
    "mylist = [\n",
    "  { \"_id\": 1, \"name\": \"John\", \"address\": \"Highway 37\"},\n",
    "  { \"_id\": 2, \"name\": \"Peter\", \"address\": \"Lowstreet 27\"},\n",
    "  { \"_id\": 3, \"name\": \"Amy\", \"address\": \"Apple st 652\"},\n",
    "  { \"_id\": 4, \"name\": \"Hannah\", \"address\": \"Mountain 21\"},\n",
    "  { \"_id\": 5, \"name\": \"Michael\", \"address\": \"Valley 345\"},\n",
    "  { \"_id\": 6, \"name\": \"Sandy\", \"address\": \"Ocean blvd 2\"},\n",
    "  { \"_id\": 7, \"name\": \"Betty\", \"address\": \"Green Grass 1\"},\n",
    "  { \"_id\": 8, \"name\": \"Richard\", \"address\": \"Sky st 331\"},\n",
    "  { \"_id\": 9, \"name\": \"Susan\", \"address\": \"One way 98\"},\n",
    "  { \"_id\": 10, \"name\": \"Vicky\", \"address\": \"Yellow Garden 2\"},\n",
    "  { \"_id\": 11, \"name\": \"Ben\", \"address\": \"Park Lane 38\"},\n",
    "  { \"_id\": 12, \"name\": \"William\", \"address\": \"Central st 954\"},\n",
    "  { \"_id\": 13, \"name\": \"Chuck\", \"address\": \"Main Road 989\"},\n",
    "  { \"_id\": 14, \"name\": \"Viola\", \"address\": \"Sideway 1633\"}\n",
    "]\n",
    "mycol.delete_many({})\n",
    "x = mycol.insert_many(mylist)\n",
    "print(x.inserted_ids)  #Adding back the data.\n"
   ]
  },
  {
   "cell_type": "code",
   "execution_count": 79,
   "id": "9fb82bf2-a2a9-4eec-95c6-72ce03613a7d",
   "metadata": {},
   "outputs": [
    {
     "data": {
      "text/plain": [
       "'All codes regarding DROP COLLECTION are completed here. '"
      ]
     },
     "execution_count": 79,
     "metadata": {},
     "output_type": "execute_result"
    }
   ],
   "source": [
    "\"\"\"All codes written below are regarding DROP COLLECTION. \"\"\"\n",
    "\n",
    "\n",
    "import pymongo\n",
    "myclient = pymongo.MongoClient(\"mongodb://localhost:27017/\")\n",
    "mydb = myclient[\"db2\"]\n",
    "mycol = mydb[\"customers\"]\n",
    "#mycol.drop()\n",
    "\n",
    "\"\"\"All codes regarding DROP COLLECTION are completed here. \"\"\""
   ]
  },
  {
   "cell_type": "code",
   "execution_count": 89,
   "id": "5e9da80b-807b-4eaa-a565-29063a822526",
   "metadata": {},
   "outputs": [
    {
     "name": "stdout",
     "output_type": "stream",
     "text": [
      "{'_id': 1, 'name': 'John', 'address': 'Highway 37'}\n",
      "{'_id': 2, 'name': 'Peter', 'address': 'Lowstreet 27'}\n",
      "{'_id': 3, 'name': 'Amy', 'address': 'Apple st 652'}\n",
      "{'_id': 4, 'name': 'Hannah', 'address': 'Mountain 21'}\n",
      "{'_id': 5, 'name': 'Michael', 'address': 'Canyon 123'}\n",
      "{'_id': 6, 'name': 'Sandy', 'address': 'Ocean blvd 2'}\n",
      "{'_id': 7, 'name': 'Betty', 'address': 'Green Grass 1'}\n",
      "{'_id': 8, 'name': 'Minnie', 'address': 'Sky st 331'}\n",
      "{'_id': 9, 'name': 'Susan', 'address': 'One way 98'}\n",
      "{'_id': 10, 'name': 'Vicky', 'address': 'Yellow Garden 2'}\n",
      "{'_id': 11, 'name': 'Ben', 'address': 'Park Lane 38'}\n",
      "{'_id': 12, 'name': 'William', 'address': 'Central st 954'}\n",
      "{'_id': 13, 'name': 'Chuck', 'address': 'Main Road 989'}\n",
      "{'_id': 14, 'name': 'Minnie', 'address': 'Sideway 1633'}\n",
      "0 documents updated. \n"
     ]
    },
    {
     "data": {
      "text/plain": [
       "'All codes regarding UPDATE are completed here. '"
      ]
     },
     "execution_count": 89,
     "metadata": {},
     "output_type": "execute_result"
    }
   ],
   "source": [
    "\"\"\"All codes written below are regarding UPDATE. \"\"\"\n",
    "\n",
    "import pymongo\n",
    "myclient = pymongo.MongoClient(\"mongodb://localhost:27017/\")\n",
    "mydb = myclient[\"db2\"]\n",
    "mycol = mydb[\"customers\"]\n",
    "myquery = {\"address\":\"Valley 345\"}\n",
    "newvalues = {\"$set\":{\"address\":\"Canyon 123\"}}\n",
    "mycol.update_one(myquery,newvalues)\n",
    "for x in mycol.find():\n",
    "    print(x)\n",
    "\n",
    "import pymongo\n",
    "myclient = pymongo.MongoClient(\"mongodb://localhost:27017/\")\n",
    "mydb = myclient[\"db2\"]\n",
    "mycol = mydb[\"customers\"]\n",
    "myquery = {\"address\":{\"$regex\":\"^S\"}}\n",
    "newvalues = {\"$set\":{\"name\":\"Minnie\"}}\n",
    "x = mycol.update_many(myquery,newvalues)\n",
    "print(x.modified_count,\"documents updated. \")\n",
    "\n",
    "\"\"\"All codes regarding UPDATE are completed here. \"\"\""
   ]
  },
  {
   "cell_type": "code",
   "execution_count": 99,
   "id": "2c6d62ec-48d3-4a1d-929b-1dda54cee345",
   "metadata": {},
   "outputs": [
    {
     "name": "stdout",
     "output_type": "stream",
     "text": [
      "{'_id': 1, 'name': 'John', 'address': 'Highway 37'}\n",
      "{'_id': 2, 'name': 'Peter', 'address': 'Lowstreet 27'}\n",
      "{'_id': 3, 'name': 'Amy', 'address': 'Apple st 652'}\n",
      "{'_id': 4, 'name': 'Hannah', 'address': 'Mountain 21'}\n",
      "{'_id': 5, 'name': 'Michael', 'address': 'Canyon 123'}\n"
     ]
    },
    {
     "data": {
      "text/plain": [
       "'All codes regarding PYMONGO are completed here. '"
      ]
     },
     "execution_count": 99,
     "metadata": {},
     "output_type": "execute_result"
    }
   ],
   "source": [
    "\"\"\"All codes written below are regarding LIMIT. \"\"\"\n",
    "\n",
    "\n",
    "import pymongo\n",
    "myclient = pymongo.MongoClient(\"mongodb://localhost:27017/\")\n",
    "mydb = myclient[\"db2\"]\n",
    "mycol = mydb[\"customers\"]\n",
    "myresult = mycol.find().limit(5)  #Find only 5 data.\n",
    "for x in myresult:\n",
    "    print(x)\n",
    "\n",
    "\"\"\"All codes regarding LIMIT are completed here. \"\"\"\n",
    "\"\"\"All codes regarding PYMONGO are completed here. \"\"\""
   ]
  },
  {
   "cell_type": "code",
   "execution_count": null,
   "id": "ecf76f71-8d86-412d-9d04-e49b53d2a23c",
   "metadata": {},
   "outputs": [],
   "source": []
  }
 ],
 "metadata": {
  "kernelspec": {
   "display_name": "Python 3 (ipykernel)",
   "language": "python",
   "name": "python3"
  },
  "language_info": {
   "codemirror_mode": {
    "name": "ipython",
    "version": 3
   },
   "file_extension": ".py",
   "mimetype": "text/x-python",
   "name": "python",
   "nbconvert_exporter": "python",
   "pygments_lexer": "ipython3",
   "version": "3.12.4"
  }
 },
 "nbformat": 4,
 "nbformat_minor": 5
}
